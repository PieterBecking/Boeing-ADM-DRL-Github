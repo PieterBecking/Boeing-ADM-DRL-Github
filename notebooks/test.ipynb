from multiprocessing import Pool

def compute(x):
    # Computationally expensive operation
    return x * x

with Pool() as pool:
    results = pool.map(compute, range(1000))
