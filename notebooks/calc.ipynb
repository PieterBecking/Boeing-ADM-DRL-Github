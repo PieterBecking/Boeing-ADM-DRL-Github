{
 "cells": [
  {
   "cell_type": "code",
   "execution_count": 1,
   "metadata": {},
   "outputs": [
    {
     "name": "stdout",
     "output_type": "stream",
     "text": [
      "MAX_AIRCRAFT:  10\n",
      "MAX_FLIGHTS_PER_AIRCRAFT:  10\n",
      "COLUMNS_STATE_SPACE:  23\n"
     ]
    }
   ],
   "source": [
    "MAX_AIRCRAFT = 10  # Maximum number of aircraft considered in the environment\n",
    "MAX_FLIGHTS_PER_AIRCRAFT = 10  # Maximum number of flights per aircraft\n",
    "COLUMNS_STATE_SPACE = 1 + 2 + 2 * MAX_FLIGHTS_PER_AIRCRAFT # Number of columns in the state space\n",
    "\n",
    "\n",
    "print(\"MAX_AIRCRAFT: \", MAX_AIRCRAFT)\n",
    "print(\"MAX_FLIGHTS_PER_AIRCRAFT: \", MAX_FLIGHTS_PER_AIRCRAFT)\n",
    "print(\"COLUMNS_STATE_SPACE: \", COLUMNS_STATE_SPACE)"
   ]
  }
 ],
 "metadata": {
  "kernelspec": {
   "display_name": "thesis_env",
   "language": "python",
   "name": "python3"
  },
  "language_info": {
   "codemirror_mode": {
    "name": "ipython",
    "version": 3
   },
   "file_extension": ".py",
   "mimetype": "text/x-python",
   "name": "python",
   "nbconvert_exporter": "python",
   "pygments_lexer": "ipython3",
   "version": "3.10.0"
  }
 },
 "nbformat": 4,
 "nbformat_minor": 2
}
