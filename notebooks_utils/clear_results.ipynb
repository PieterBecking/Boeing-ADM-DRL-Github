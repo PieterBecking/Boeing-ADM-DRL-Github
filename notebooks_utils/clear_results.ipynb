{
 "cells": [
  {
   "cell_type": "code",
   "execution_count": 5,
   "metadata": {},
   "outputs": [
    {
     "name": "stdout",
     "output_type": "stream",
     "text": [
      "Folders to be deleted: ['../results/a2c/20241124-12-01']\n"
     ]
    }
   ],
   "source": [
    "import os\n",
    "import shutil\n",
    "\n",
    "def clear_empty_or_plots_only_folders(results_folder):\n",
    "    # List to hold folders to be deleted\n",
    "    folders_to_delete = []\n",
    "\n",
    "    # Iterate over all subfolders in the results folder\n",
    "    for folder in os.listdir(results_folder):\n",
    "        folder_path = os.path.join(results_folder, folder)\n",
    "        \n",
    "        # Check if the folder is empty or only contains a plots folder\n",
    "        if os.path.isdir(folder_path):\n",
    "            contents = os.listdir(folder_path)\n",
    "            if len(contents) == 0 or (len(contents) == 1 and contents[0] == 'plots'):\n",
    "                # Add the folder to the list of folders to be deleted\n",
    "                folders_to_delete.append(folder_path)\n",
    "\n",
    "    # Return all folders that are to be deleted\n",
    "    return folders_to_delete\n",
    "\n",
    "\n",
    "folders_to_delete = clear_empty_or_plots_only_folders('../results/a2c')\n",
    "\n",
    "print(f\"Folders to be deleted: {folders_to_delete}\")\n",
    "\n",
    "\n"
   ]
  },
  {
   "cell_type": "code",
   "execution_count": 6,
   "metadata": {},
   "outputs": [
    {
     "name": "stdout",
     "output_type": "stream",
     "text": [
      "Deleted folder: ../results/a2c/20241124-12-01\n"
     ]
    }
   ],
   "source": [
    "for folder in folders_to_delete:\n",
    "    try:\n",
    "        shutil.rmtree(folder)\n",
    "        print(f\"Deleted folder: {folder}\")\n",
    "    except Exception as e:\n",
    "        print(f\"Failed to delete folder: {folder}. Error: {e}\")\n",
    "\n"
   ]
  }
 ],
 "metadata": {
  "kernelspec": {
   "display_name": ".venv",
   "language": "python",
   "name": "python3"
  },
  "language_info": {
   "codemirror_mode": {
    "name": "ipython",
    "version": 3
   },
   "file_extension": ".py",
   "mimetype": "text/x-python",
   "name": "python",
   "nbconvert_exporter": "python",
   "pygments_lexer": "ipython3",
   "version": "3.10.0"
  }
 },
 "nbformat": 4,
 "nbformat_minor": 2
}
