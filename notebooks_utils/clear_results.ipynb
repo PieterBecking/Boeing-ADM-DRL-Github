{
 "cells": [
  {
   "cell_type": "code",
   "execution_count": 1,
   "metadata": {},
   "outputs": [
    {
     "name": "stdout",
     "output_type": "stream",
     "text": [
      "Folder to be deleted: ../results/20241123-20-37\n",
      "Folder to be deleted: ../results/20241123-20-34\n"
     ]
    }
   ],
   "source": [
    "import os\n",
    "import shutil\n",
    "\n",
    "# Define the results folder path\n",
    "results_folder = '../results'\n",
    "\n",
    "# List to hold folders to be deleted\n",
    "folders_to_delete = []\n",
    "\n",
    "# Iterate over all subfolders in the results folder\n",
    "for folder in os.listdir(results_folder):\n",
    "    folder_path = os.path.join(results_folder, folder)\n",
    "    \n",
    "    # Check if the folder is empty or only contains a plots folder\n",
    "    if os.path.isdir(folder_path):\n",
    "        contents = os.listdir(folder_path)\n",
    "        if len(contents) == 0 or (len(contents) == 1 and contents[0] == 'plots'):\n",
    "            # Add the folder to the list of folders to be deleted\n",
    "            folders_to_delete.append(folder_path)\n",
    "\n",
    "# Print all folders that are to be deleted\n",
    "for folder in folders_to_delete:\n",
    "    print(f\"Folder to be deleted: {folder}\")\n",
    "\n",
    "\n"
   ]
  },
  {
   "cell_type": "code",
   "execution_count": 2,
   "metadata": {},
   "outputs": [
    {
     "name": "stdout",
     "output_type": "stream",
     "text": [
      "Deleted folder: ../results/20241123-20-37\n",
      "Deleted folder: ../results/20241123-20-34\n"
     ]
    }
   ],
   "source": [
    "# Delete the folders\n",
    "for folder in folders_to_delete:\n",
    "    shutil.rmtree(folder)\n",
    "    print(f\"Deleted folder: {folder}\")"
   ]
  }
 ],
 "metadata": {
  "kernelspec": {
   "display_name": ".venv",
   "language": "python",
   "name": "python3"
  },
  "language_info": {
   "codemirror_mode": {
    "name": "ipython",
    "version": 3
   },
   "file_extension": ".py",
   "mimetype": "text/x-python",
   "name": "python",
   "nbconvert_exporter": "python",
   "pygments_lexer": "ipython3",
   "version": "3.10.0"
  }
 },
 "nbformat": 4,
 "nbformat_minor": 2
}
