{
 "cells": [
  {
   "cell_type": "code",
   "execution_count": 1,
   "metadata": {},
   "outputs": [
    {
     "ename": "NameError",
     "evalue": "name 'LAST_MINUTE_CANCEL_PENALTY' is not defined",
     "output_type": "error",
     "traceback": [
      "\u001b[0;31m---------------------------------------------------------------------------\u001b[0m",
      "\u001b[0;31mNameError\u001b[0m                                 Traceback (most recent call last)",
      "Cell \u001b[0;32mIn[1], line 16\u001b[0m\n\u001b[1;32m     11\u001b[0m proactive_bonus \u001b[38;5;241m=\u001b[39m RESOLVED_CONFLICT_REWARD \u001b[38;5;241m*\u001b[39m normalized_lead_time\n\u001b[1;32m     13\u001b[0m \u001b[38;5;66;03m# Last-minute penalty calculation\u001b[39;00m\n\u001b[1;32m     14\u001b[0m last_minute_penalty_cancel \u001b[38;5;241m=\u001b[39m np\u001b[38;5;241m.\u001b[39mwhere(\n\u001b[1;32m     15\u001b[0m     time_to_departure \u001b[38;5;241m<\u001b[39m LAST_MINUTE_THRESHOLD,\n\u001b[0;32m---> 16\u001b[0m     \u001b[38;5;241m-\u001b[39m\u001b[43mLAST_MINUTE_CANCEL_PENALTY\u001b[49m,\n\u001b[1;32m     17\u001b[0m     \u001b[38;5;241m0\u001b[39m\n\u001b[1;32m     18\u001b[0m )\n\u001b[1;32m     19\u001b[0m delay_minutes_example \u001b[38;5;241m=\u001b[39m \u001b[38;5;241m30\u001b[39m  \u001b[38;5;66;03m# Assume a 30-minute delay for visualization\u001b[39;00m\n\u001b[1;32m     20\u001b[0m last_minute_penalty_delay \u001b[38;5;241m=\u001b[39m np\u001b[38;5;241m.\u001b[39mwhere(\n\u001b[1;32m     21\u001b[0m     time_to_departure \u001b[38;5;241m<\u001b[39m LAST_MINUTE_THRESHOLD,\n\u001b[1;32m     22\u001b[0m     \u001b[38;5;241m-\u001b[39mLAST_MINUTE_DELAY_PENALTY \u001b[38;5;241m*\u001b[39m delay_minutes_example,\n\u001b[1;32m     23\u001b[0m     \u001b[38;5;241m0\u001b[39m\n\u001b[1;32m     24\u001b[0m )\n",
      "\u001b[0;31mNameError\u001b[0m: name 'LAST_MINUTE_CANCEL_PENALTY' is not defined"
     ]
    }
   ],
   "source": [
    "import matplotlib.pyplot as plt\n",
    "import numpy as np\n",
    "from src.config import LAST_MINUTE_THRESHOLD, RESOLVED_CONFLICT_REWARD, LAST_MINUTE_FLIGHT_PENALTY\n",
    "\n",
    "# Simulation parameters\n",
    "total_recovery_window = 720  # 12 hours in minutes\n",
    "time_to_departure = np.linspace(0, total_recovery_window, 500)  # Time to departure in minutes\n",
    "\n",
    "# Proactive bonus calculation\n",
    "normalized_lead_time = np.minimum(time_to_departure / total_recovery_window, 1.0)\n",
    "proactive_bonus = RESOLVED_CONFLICT_REWARD * normalized_lead_time\n",
    "\n",
    "# Last-minute penalty calculation\n",
    "last_minute_penalty_cancel = np.where(\n",
    "    time_to_departure < LAST_MINUTE_THRESHOLD,\n",
    "    -LAST_MINUTE_CANCEL_PENALTY,\n",
    "    0\n",
    ")\n",
    "delay_minutes_example = 30  # Assume a 30-minute delay for visualization\n",
    "last_minute_penalty_delay = np.where(\n",
    "    time_to_departure < LAST_MINUTE_THRESHOLD,\n",
    "    -LAST_MINUTE_DELAY_PENALTY * delay_minutes_example,\n",
    "    0\n",
    ")\n",
    "\n",
    "# Cumulative effect (bonus + penalties)\n",
    "cumulative_effect = proactive_bonus + last_minute_penalty_cancel + last_minute_penalty_delay\n",
    "\n",
    "# Reverse the x-axis (time to departure)\n",
    "time_to_departure_flipped = total_recovery_window - time_to_departure\n",
    "\n",
    "# Adjust values to match the flipped x-axis (reverse time)\n",
    "proactive_bonus_flipped = proactive_bonus[::-1]\n",
    "last_minute_penalty_cancel_flipped = last_minute_penalty_cancel[::-1]\n",
    "last_minute_penalty_delay_flipped = last_minute_penalty_delay[::-1]\n",
    "cumulative_effect_flipped = cumulative_effect[::-1]\n",
    "\n",
    "# Adjust LAST_MINUTE_THRESHOLD for flipped axis\n",
    "last_minute_threshold_flipped = total_recovery_window - LAST_MINUTE_THRESHOLD\n",
    "\n",
    "# Plotting\n",
    "plt.figure(figsize=(12, 6))\n",
    "\n",
    "plt.plot(time_to_departure_flipped, proactive_bonus_flipped, label=\"Proactive Bonus (Reward)\", linewidth=2)\n",
    "plt.plot(time_to_departure_flipped, last_minute_penalty_cancel_flipped, label=\"Last-Minute Penalty (Cancel)\", linestyle=\"--\", linewidth=2)\n",
    "plt.plot(time_to_departure_flipped, last_minute_penalty_delay_flipped, label=\"Last-Minute Penalty (Delay)\", linestyle=\":\", linewidth=2)\n",
    "plt.plot(time_to_departure_flipped, cumulative_effect_flipped, label=\"Cumulative Effect\", color=\"purple\", linewidth=2)\n",
    "\n",
    "# Correct threshold for flipped axis\n",
    "# plt.axvline(last_minute_threshold_flipped, color='red', linestyle='-.', label=\"Last-Minute Threshold\")\n",
    "\n",
    "plt.title(\"Proactive Bonus and Last-Minute Penalties Over Time\")\n",
    "plt.xlabel(\"Time to Departure (minutes)\")\n",
    "plt.ylabel(\"Penalty / Bonus\")\n",
    "plt.legend()\n",
    "plt.grid(True)\n",
    "plt.gca().invert_xaxis()  # Correctly flip x-axis\n",
    "plt.show()\n"
   ]
  }
 ],
 "metadata": {
  "kernelspec": {
   "display_name": ".venv",
   "language": "python",
   "name": "python3"
  },
  "language_info": {
   "codemirror_mode": {
    "name": "ipython",
    "version": 3
   },
   "file_extension": ".py",
   "mimetype": "text/x-python",
   "name": "python",
   "nbconvert_exporter": "python",
   "pygments_lexer": "ipython3",
   "version": "3.10.0"
  }
 },
 "nbformat": 4,
 "nbformat_minor": 2
}
