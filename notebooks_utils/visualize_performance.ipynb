{
 "cells": [
  {
   "cell_type": "code",
   "execution_count": 4,
   "metadata": {},
   "outputs": [
    {
     "ename": "ValueError",
     "evalue": "No model found for this scenario with name ../trained_models/dqn_10000000d_1000u-1.zip.",
     "output_type": "error",
     "traceback": [
      "\u001b[0;31m---------------------------------------------------------------------------\u001b[0m",
      "\u001b[0;31mValueError\u001b[0m                                Traceback (most recent call last)",
      "Cell \u001b[0;32mIn[4], line 46\u001b[0m\n\u001b[1;32m     43\u001b[0m         best_reward \u001b[38;5;241m=\u001b[39m row[\u001b[38;5;124m'\u001b[39m\u001b[38;5;124mreward\u001b[39m\u001b[38;5;124m'\u001b[39m]\n\u001b[1;32m     45\u001b[0m \u001b[38;5;28;01mif\u001b[39;00m worst_sequence \u001b[38;5;129;01mis\u001b[39;00m \u001b[38;5;28;01mNone\u001b[39;00m \u001b[38;5;129;01mor\u001b[39;00m best_sequence \u001b[38;5;129;01mis\u001b[39;00m \u001b[38;5;28;01mNone\u001b[39;00m:\n\u001b[0;32m---> 46\u001b[0m     \u001b[38;5;28;01mraise\u001b[39;00m \u001b[38;5;167;01mValueError\u001b[39;00m(\u001b[38;5;124mf\u001b[39m\u001b[38;5;124m\"\u001b[39m\u001b[38;5;124mNo model found for this scenario with name \u001b[39m\u001b[38;5;132;01m{\u001b[39;00mMODEL_SAVE_PATH\u001b[38;5;132;01m}\u001b[39;00m\u001b[38;5;124m.\u001b[39m\u001b[38;5;124m\"\u001b[39m)\n\u001b[1;32m     48\u001b[0m \u001b[38;5;66;03m# Define function to visualize action sequences\u001b[39;00m\n\u001b[1;32m     49\u001b[0m \u001b[38;5;28;01mdef\u001b[39;00m \u001b[38;5;21mvisualize_action_sequence\u001b[39m(action_sequence, scenario_name, data_root_folder, title, total_reward):\n",
      "\u001b[0;31mValueError\u001b[0m: No model found for this scenario with name ../trained_models/dqn_10000000d_1000u-1.zip."
     ]
    }
   ],
   "source": [
    "import os\n",
    "import ast\n",
    "from scripts.visualizations import run_visualization\n",
    "import pandas as pd\n",
    "\n",
    "# Define the scenario and root folder for data\n",
    "data_root_folder = '../data/Training-10-days/'\n",
    "scenario_name = 'Scenario_01'\n",
    "MODEL_SAVE_PATH = '../trained_models/dqn_10000000d_1000u-1.zip'\n",
    "\n",
    "\n",
    "# Define the file path where action sequences are saved (adjust if necessary)\n",
    "csv_file = os.path.join(data_root_folder, scenario_name, 'action_sequences.csv')\n",
    "\n",
    "# Verify that the scenario exists\n",
    "if not os.path.exists(data_root_folder + scenario_name):\n",
    "    raise FileNotFoundError('The scenario does not exist at ' + data_root_folder + scenario_name)\n",
    "\n",
    "# Load action sequences from the CSV\n",
    "try:\n",
    "    action_sequences_df = pd.read_csv(csv_file)\n",
    "except FileNotFoundError:\n",
    "    raise FileNotFoundError(f\"This scenario has not been trained yet. ({csv_file} file not found)\")\n",
    "\n",
    "# Helper function to parse the action sequence string into a Python list\n",
    "def parse_action_sequence(action_str):\n",
    "    # Convert the string representation into a Python list\n",
    "    action_str = action_str.replace(\"array(\", \"\").replace(\")\", \"\")  # Remove 'array()' wrapping\n",
    "    return ast.literal_eval(action_str)\n",
    "\n",
    "# Retrieve the worst and best sequences for the model\n",
    "worst_sequence = None\n",
    "best_sequence = None\n",
    "worst_reward = None\n",
    "best_reward = None\n",
    "\n",
    "for index, row in action_sequences_df.iterrows():\n",
    "    if row['model_name'] == MODEL_SAVE_PATH and row['sequence_type'] == \"worst action sequence\":\n",
    "        worst_sequence = parse_action_sequence(row['actions'])\n",
    "        worst_reward = row['reward']\n",
    "    if row['model_name'] == MODEL_SAVE_PATH and row['sequence_type'] == \"best action sequence\":\n",
    "        best_sequence = parse_action_sequence(row['actions'])\n",
    "        best_reward = row['reward']\n",
    "\n",
    "if worst_sequence is None or best_sequence is None:\n",
    "    raise ValueError(f\"No model found for this scenario with name {MODEL_SAVE_PATH}.\")\n",
    "\n",
    "# Define function to visualize action sequences\n",
    "def visualize_action_sequence(action_sequence, scenario_name, data_root_folder, title, total_reward):\n",
    "    \"\"\"\n",
    "    Visualizes a given action sequence step by step.\n",
    "    \"\"\"\n",
    "    print(f\"Visualizing {title}\")\n",
    "    \n",
    "    # Loop through each action in the sequence\n",
    "    for step, action in enumerate(action_sequence):\n",
    "        # Print the current action and step\n",
    "        print(f\"Step {step + 1}, Action: {action}\")\n",
    "        \n",
    "        run_visualization(scenario_name, data_root_folder, aircraft_rotations=True, airport_rotations=False)\n",
    "        \n",
    "        print(\"-\" * 50)\n",
    "    \n",
    "    # After the complete sequence, print the total reward\n",
    "    print(f\"Total Reward for {title}: {total_reward}\")\n",
    "    print(\"=\" * 50)\n",
    "\n",
    "# Visualize the worst and best action sequences\n",
    "visualize_action_sequence(worst_sequence, scenario_name, data_root_folder, \"Worst Action Sequence\", worst_reward)\n",
    "visualize_action_sequence(best_sequence, scenario_name, data_root_folder, \"Best Action Sequence\", best_reward)\n"
   ]
  }
 ],
 "metadata": {
  "kernelspec": {
   "display_name": "thesis_env",
   "language": "python",
   "name": "python3"
  },
  "language_info": {
   "codemirror_mode": {
    "name": "ipython",
    "version": 3
   },
   "file_extension": ".py",
   "mimetype": "text/x-python",
   "name": "python",
   "nbconvert_exporter": "python",
   "pygments_lexer": "ipython3",
   "version": "3.10.0"
  }
 },
 "nbformat": 4,
 "nbformat_minor": 2
}
