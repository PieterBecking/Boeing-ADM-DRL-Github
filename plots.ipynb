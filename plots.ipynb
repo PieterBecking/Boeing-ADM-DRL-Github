{
 "cells": [
  {
   "cell_type": "code",
   "execution_count": 1,
   "metadata": {},
   "outputs": [
    {
     "data": {
      "application/vnd.jupyter.widget-view+json": {
       "model_id": "74d543bb5d8e42c6839c40757bc421a7",
       "version_major": 2,
       "version_minor": 0
      },
      "text/plain": [
       "interactive(children=(IntSlider(value=0, description='Plot', max=4), Output()), _dom_classes=('widget-interact…"
      ]
     },
     "execution_count": 1,
     "metadata": {},
     "output_type": "execute_result"
    }
   ],
   "source": [
    "import matplotlib.pyplot as plt\n",
    "import ipywidgets as widgets\n",
    "from IPython.display import display\n",
    "\n",
    "# Function to create a plot\n",
    "def create_plot(index):\n",
    "    plt.figure()\n",
    "    plt.plot([1, 2, 3], [index, index + 1, index + 2])\n",
    "    plt.title(f'Plot {index}')\n",
    "    plt.show()\n",
    "\n",
    "# Number of plots you want to display\n",
    "num_plots = 5\n",
    "\n",
    "# Create a list of plot functions\n",
    "plots = [lambda i=i: create_plot(i) for i in range(num_plots)]\n",
    "\n",
    "# Create the interactive carousel\n",
    "slider = widgets.IntSlider(min=0, max=num_plots - 1, step=1, description='Plot')\n",
    "\n",
    "def update_plot(index):\n",
    "    plt.close('all')\n",
    "    plots[index]()\n",
    "\n",
    "widgets.interactive(update_plot, index=slider)\n"
   ]
  }
 ],
 "metadata": {
  "kernelspec": {
   "display_name": "thesis_env",
   "language": "python",
   "name": "python3"
  },
  "language_info": {
   "codemirror_mode": {
    "name": "ipython",
    "version": 3
   },
   "file_extension": ".py",
   "mimetype": "text/x-python",
   "name": "python",
   "nbconvert_exporter": "python",
   "pygments_lexer": "ipython3",
   "version": "3.10.0"
  }
 },
 "nbformat": 4,
 "nbformat_minor": 2
}
