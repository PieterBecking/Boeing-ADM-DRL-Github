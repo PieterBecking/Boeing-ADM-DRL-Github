{
 "cells": [
  {
   "cell_type": "code",
   "execution_count": null,
   "metadata": {},
   "outputs": [],
   "source": [
    "import matplotlib.pyplot as plt\n",
    "import ipywidgets as widgets\n",
    "from IPython.display import display\n",
    "\n",
    "# Function to create a plot\n",
    "def create_plot(index):\n",
    "    plt.figure()\n",
    "    plt.plot([1, 2, 3], [index, index + 1, index + 2])\n",
    "    plt.title(f'Plot {index}')\n",
    "    plt.show()\n",
    "\n",
    "# Number of plots you want to display\n",
    "num_plots = 5\n",
    "\n",
    "# Create a list of plot functions\n",
    "plots = [lambda i=i: create_plot(i) for i in range(num_plots)]\n",
    "\n",
    "# Create the interactive carousel\n",
    "slider = widgets.IntSlider(min=0, max=num_plots - 1, step=1, description='Plot')\n",
    "\n",
    "def update_plot(index):\n",
    "    plt.close('all')\n",
    "    plots[index]()\n",
    "\n",
    "widgets.interactive(update_plot, index=slider)\n"
   ]
  }
 ],
 "metadata": {
  "language_info": {
   "name": "python"
  }
 },
 "nbformat": 4,
 "nbformat_minor": 2
}
