{
 "cells": [
  {
   "cell_type": "code",
   "execution_count": 2,
   "metadata": {},
   "outputs": [
    {
     "name": "stdout",
     "output_type": "stream",
     "text": [
      "Data creation for scenario Scenario_01 completed with 6 aircraft and 23 flights.\n",
      "Data creation for scenario Scenario_02 completed with 10 aircraft and 31 flights.\n"
     ]
    }
   ],
   "source": [
    "from scripts.create_data import create_data_scenario\n",
    "import random\n",
    "from datetime import datetime\n",
    "\n",
    "\n",
    "# Define hyperparameters for different scenarios\n",
    "template_folder = \"Data/Template\"\n",
    "data_root_folder = \"Data\"\n",
    "airports = ['AMS', 'CDG', 'FRA', 'LHR', 'MAD', 'MUC', 'ORY', 'TXL', 'VIE', 'ZRH', 'BCN', 'BRU', 'CPH', 'DUB', 'IST']\n",
    "\n",
    "aircraft_types = [\n",
    "    {'Model': 'B737', 'Family': 'Boeing', 'Config': '10/20/160', 'Dist': 5000, 'Cost/h': 3000.0, 'TurnRound': 75, 'Transit': 50, 'Orig': ['CDG'], 'Maint': ['NULL']},\n",
    "    {'Model': 'A320', 'Family': 'Airbus', 'Config': '0/0/123', 'Dist': 5000, 'Cost/h': 1800.0, 'TurnRound': 30, 'Transit': 30, 'Orig': ['CFE'], 'Maint': ['NULL']}\n",
    "]\n",
    "\n",
    "# Example config_dict (you can add other configurations)\n",
    "config_dict = {\n",
    "    'DelayCosts': [{'Cabin': 'Economy', 'Type': 'ShortHaul', 'Cost': 100.0}],\n",
    "    'CancellationCostsOutbound': [{'Cabin': 'Economy', 'Type': 'ShortHaul', 'Cost': 500.0}],\n",
    "    'CancellationCostsInbound': [{'Cabin': 'Economy', 'Type': 'ShortHaul', 'Cost': 600.0}],\n",
    "    'DowngradingCosts': [{'FromCabin': 'Business', 'ToCabin': 'Economy', 'Type': 'ShortHaul', 'Cost': 200.0}],\n",
    "    'PenaltyCosts': [200, 300, 400],\n",
    "    'Weights': [1.0, 0.5, 0.2],\n",
    "}\n",
    "\n",
    "# Define scenarios\n",
    "scenarios = [\n",
    "    {\n",
    "        'scenario_name': 'Scenario_01',\n",
    "        'total_aircraft_range': (5, 10),\n",
    "        'amount_aircraft_disrupted': 1,\n",
    "        'average_flights_per_aircraft': 4,\n",
    "    },\n",
    "    {\n",
    "        'scenario_name': 'Scenario_02',\n",
    "        'total_aircraft_range': (8, 12),\n",
    "        'amount_aircraft_disrupted': 2,\n",
    "        'average_flights_per_aircraft': 5,\n",
    "    },\n",
    "]\n",
    "\n",
    "# Run the scenarios\n",
    "for scenario in scenarios:\n",
    "    recovery_start_date = datetime(2024, 9, random.randint(1, 30)).strftime('%d/%m/%y')\n",
    "    recovery_start_time = f'{random.randint(5, 7)}:00'\n",
    "    recovery_end_date = recovery_start_date\n",
    "    recovery_end_time = f'{random.randint(20, 23)}:{random.choice([\"00\", \"30\"])}'\n",
    "\n",
    "    # Call the function for each scenario\n",
    "    create_data_scenario(\n",
    "        scenario_name=scenario['scenario_name'],\n",
    "        template_folder=template_folder,\n",
    "        data_root_folder=data_root_folder,\n",
    "        aircraft_types=aircraft_types,\n",
    "        total_aircraft_range=scenario['total_aircraft_range'],\n",
    "        amount_aircraft_disrupted=scenario['amount_aircraft_disrupted'],\n",
    "        min_delta_start_unavailability=0,\n",
    "        max_delta_start_unavailability=120,\n",
    "        min_period_unavailability=120,\n",
    "        max_period_unavailability=720,\n",
    "        average_flights_per_aircraft=scenario['average_flights_per_aircraft'],\n",
    "        std_dev_flights_per_aircraft=1,\n",
    "        airports=airports,\n",
    "        config_dict=config_dict,\n",
    "        recovery_start_date=recovery_start_date,\n",
    "        recovery_start_time=recovery_start_time,\n",
    "        recovery_end_date=recovery_end_date,\n",
    "        recovery_end_time=recovery_end_time\n",
    "    )\n"
   ]
  }
 ],
 "metadata": {
  "kernelspec": {
   "display_name": "thesis_env",
   "language": "python",
   "name": "python3"
  },
  "language_info": {
   "codemirror_mode": {
    "name": "ipython",
    "version": 3
   },
   "file_extension": ".py",
   "mimetype": "text/x-python",
   "name": "python",
   "nbconvert_exporter": "python",
   "pygments_lexer": "ipython3",
   "version": "3.10.0"
  }
 },
 "nbformat": 4,
 "nbformat_minor": 2
}
